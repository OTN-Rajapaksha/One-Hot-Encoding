{
  "nbformat": 4,
  "nbformat_minor": 0,
  "metadata": {
    "colab": {
      "provenance": [],
      "authorship_tag": "ABX9TyPGMqzQbGSfL0uRRr4t7QMQ",
      "include_colab_link": true
    },
    "kernelspec": {
      "name": "python3",
      "display_name": "Python 3"
    },
    "language_info": {
      "name": "python"
    }
  },
  "cells": [
    {
      "cell_type": "markdown",
      "metadata": {
        "id": "view-in-github",
        "colab_type": "text"
      },
      "source": [
        "<a href=\"https://colab.research.google.com/github/OTN-Rajapaksha/One-Hot-Encoding/blob/main/One_Hot_Encoding.ipynb\" target=\"_parent\"><img src=\"https://colab.research.google.com/assets/colab-badge.svg\" alt=\"Open In Colab\"/></a>"
      ]
    },
    {
      "cell_type": "markdown",
      "source": [
        "## **One-Hot-Encoding**\n",
        "\n",
        "\n",
        "🧠 What is One-Hot Encoding?\n",
        "\n",
        "One-Hot Encoding is a method used to convert categorical variables into a numeric format so that they can be used by machine learning algorithms."
      ],
      "metadata": {
        "id": "PwZBnHZCJA9Y"
      }
    },
    {
      "cell_type": "code",
      "metadata": {
        "colab": {
          "base_uri": "https://localhost:8080/"
        },
        "id": "b8b8330a",
        "outputId": "dd345a65-60b7-450f-b5bf-a242791b0fc9"
      },
      "source": [
        "def get_onehot_vector(somestring):\n",
        "  onehot_encoded = []\n",
        "  for word in somestring.split():\n",
        "    temp = [0]*len(vocab)\n",
        "    if word in vocab:\n",
        "      temp[vocab[word]-1] = 1\n",
        "    onehot_encoded.append(temp)\n",
        "  return onehot_encoded\n",
        "\n",
        "# Placeholder data for demonstration\n",
        "processed_docs = [\"This is a test sentence\", \"Another sentence for testing\"]\n",
        "vocab = {\"This\": 1, \"is\": 2, \"a\": 3, \"test\": 4, \"sentence\": 5, \"Another\": 6, \"for\": 7, \"testing\": 8}\n",
        "\n",
        "get_onehot_vector(processed_docs[1])"
      ],
      "execution_count": 3,
      "outputs": [
        {
          "output_type": "execute_result",
          "data": {
            "text/plain": [
              "[[0, 0, 0, 0, 0, 1, 0, 0],\n",
              " [0, 0, 0, 0, 1, 0, 0, 0],\n",
              " [0, 0, 0, 0, 0, 0, 1, 0],\n",
              " [0, 0, 0, 0, 0, 0, 0, 1]]"
            ]
          },
          "metadata": {},
          "execution_count": 3
        }
      ]
    },
    {
      "cell_type": "code",
      "source": [
        "def get_onehot_vector(somestring):\n",
        "  onehot_encoded = []\n",
        "  for word in somestring.split():\n",
        "    temp = [0]*len(vocab)\n",
        "    if word in vocab:\n",
        "      temp[vocab[word]-1] = 1\n",
        "    onehot_encoded.append(temp)\n",
        "  return onehot_encoded\n",
        "\n",
        "# Placeholder data for demonstration\n",
        "processed_docs = [\"Oshan Thiyanga Nawod Rajapaksha sentence\", \"Another sentence for testing\"]\n",
        "vocab = {\"Oshan\": 1, \"Thiyanga\": 2, \"Nawod\": 3, \"Rajapaksha\": 4, \"sentence\": 5, \"Another\": 6, \"for\": 7, \"testing\": 8}\n",
        "\n",
        "get_onehot_vector(processed_docs[1])"
      ],
      "metadata": {
        "colab": {
          "base_uri": "https://localhost:8080/"
        },
        "id": "4XQTeEzFJmlA",
        "outputId": "bf7bd737-4ca6-4944-813c-5d81e8e20650"
      },
      "execution_count": 9,
      "outputs": [
        {
          "output_type": "execute_result",
          "data": {
            "text/plain": [
              "[[0, 0, 0, 0, 0, 1, 0, 0],\n",
              " [0, 0, 0, 0, 1, 0, 0, 0],\n",
              " [0, 0, 0, 0, 0, 0, 1, 0],\n",
              " [0, 0, 0, 0, 0, 0, 0, 1]]"
            ]
          },
          "metadata": {},
          "execution_count": 9
        }
      ]
    },
    {
      "cell_type": "code",
      "source": [
        "from sklearn.preprocessing import LabelEncoder\n",
        "from sklearn.preprocessing import OneHotEncoder\n",
        "from sklearn.feature_extraction.text import CountVectorizer\n",
        "\n",
        "corpus = [\n",
        "    'dog bites dog and dog dog runs.',\n",
        "    'man bites dog.',\n",
        "    'And this is the third one.',\n",
        "    'Is this the first document?'\n",
        "]\n",
        "\n",
        "# Step 1: Count Vectorization\n",
        "vectorizer = CountVectorizer()\n",
        "X = vectorizer.fit_transform(corpus)\n",
        "V = vectorizer.get_feature_names_out()  # Updated method\n",
        "print(\"Vocabulary List:\\n\", V)\n",
        "\n",
        "# Step 2: Label Encoding\n",
        "encoder = LabelEncoder()\n",
        "V_labels = encoder.fit_transform(V)\n",
        "print(\"Label Encoded:\\n\", V_labels)\n",
        "\n",
        "# Step 3: Reshape to 2D array for OneHotEncoder\n",
        "V_labels = V_labels.reshape((V_labels.shape[0], 1))\n",
        "print(\"Reshaped Labels:\\n\", V_labels)\n",
        "\n",
        "# Step 4: One-Hot Encoding\n",
        "encoder = OneHotEncoder()\n",
        "y = encoder.fit_transform(V_labels)\n",
        "print(\"One-Hot Encoded:\\n\", y)"
      ],
      "metadata": {
        "colab": {
          "base_uri": "https://localhost:8080/"
        },
        "id": "yMI3UwG-KoTV",
        "outputId": "47589a89-efb7-4d90-f3d2-bd48d3bf9fc5"
      },
      "execution_count": 12,
      "outputs": [
        {
          "output_type": "stream",
          "name": "stdout",
          "text": [
            "Vocabulary List:\n",
            " ['and' 'document' 'first' 'is' 'one' 'second' 'the' 'third' 'this']\n",
            "Label Encoded:\n",
            " [0 1 2 3 4 5 6 7 8]\n",
            "Reshaped Labels:\n",
            " [[0]\n",
            " [1]\n",
            " [2]\n",
            " [3]\n",
            " [4]\n",
            " [5]\n",
            " [6]\n",
            " [7]\n",
            " [8]]\n",
            "One-Hot Encoded:\n",
            " <Compressed Sparse Row sparse matrix of dtype 'float64'\n",
            "\twith 9 stored elements and shape (9, 9)>\n",
            "  Coords\tValues\n",
            "  (0, 0)\t1.0\n",
            "  (1, 1)\t1.0\n",
            "  (2, 2)\t1.0\n",
            "  (3, 3)\t1.0\n",
            "  (4, 4)\t1.0\n",
            "  (5, 5)\t1.0\n",
            "  (6, 6)\t1.0\n",
            "  (7, 7)\t1.0\n",
            "  (8, 8)\t1.0\n"
          ]
        }
      ]
    },
    {
      "cell_type": "code",
      "source": [
        "from sklearn.preprocessing import LabelEncoder\n",
        "from sklearn.preprocessing import OneHotEncoder\n",
        "from sklearn.feature_extraction.text import CountVectorizer\n",
        "\n",
        "corpus = [\n",
        "    'dog bites dog and dog dog runs.',\n",
        "    'man bites dog.',\n",
        "]\n",
        "\n",
        "# Step 1: Count Vectorization\n",
        "vectorizer = CountVectorizer()\n",
        "X = vectorizer.fit_transform(corpus)\n",
        "V = vectorizer.get_feature_names_out()  # Updated method\n",
        "print(\"Vocabulary List:\\n\", V)\n",
        "\n",
        "# Step 2: Label Encoding\n",
        "encoder = LabelEncoder()\n",
        "V_labels = encoder.fit_transform(V)\n",
        "print(\"Label Encoded:\\n\", V_labels)\n",
        "\n",
        "# Step 3: Reshape to 2D array for OneHotEncoder\n",
        "V_labels = V_labels.reshape((V_labels.shape[0], 1))\n",
        "print(\"Reshaped Labels:\\n\", V_labels)\n",
        "\n",
        "# Step 4: One-Hot Encoding\n",
        "encoder = OneHotEncoder()\n",
        "y = encoder.fit_transform(V_labels)\n",
        "print(\"One-Hot Encoded:\\n\", y)"
      ],
      "metadata": {
        "colab": {
          "base_uri": "https://localhost:8080/"
        },
        "id": "5KZQR7nKMo_9",
        "outputId": "da96d84d-b5a8-432c-bb68-b38f3e050bba"
      },
      "execution_count": 13,
      "outputs": [
        {
          "output_type": "stream",
          "name": "stdout",
          "text": [
            "Vocabulary List:\n",
            " ['and' 'bites' 'dog' 'man' 'runs']\n",
            "Label Encoded:\n",
            " [0 1 2 3 4]\n",
            "Reshaped Labels:\n",
            " [[0]\n",
            " [1]\n",
            " [2]\n",
            " [3]\n",
            " [4]]\n",
            "One-Hot Encoded:\n",
            " <Compressed Sparse Row sparse matrix of dtype 'float64'\n",
            "\twith 5 stored elements and shape (5, 5)>\n",
            "  Coords\tValues\n",
            "  (0, 0)\t1.0\n",
            "  (1, 1)\t1.0\n",
            "  (2, 2)\t1.0\n",
            "  (3, 3)\t1.0\n",
            "  (4, 4)\t1.0\n"
          ]
        }
      ]
    }
  ]
}